{
 "cells": [
  {
   "cell_type": "code",
   "execution_count": null,
   "metadata": {},
   "outputs": [],
   "source": [
    "import numpy as np\n",
    "import matplotlib.pyplot as plt\n",
    "from options_market_maker.pricing.implied_volatility import implied_volatility\n",
    "\n",
    "# Fixed parameters\n",
    "S = 100   # Current stock price\n",
    "T = 1.0   # Time to expiration\n",
    "r = 0.05  # Risk-free rate\n",
    "market_prices = [10.45, 8.5, 7.2, 6.0, 5.0, 4.2, 3.5, 2.9, 2.3, 1.8]  # Sample market prices\n",
    "\n",
    "# Range of strike prices\n",
    "strike_prices = np.linspace(80, 120, len(market_prices))\n",
    "\n",
    "# Compute IV for different strikes\n",
    "implied_vols = [implied_volatility(mp, S, K, T, r, option_type=\"call\") for mp, K in zip(market_prices, strike_prices)]\n",
    "\n",
    "# Plot\n",
    "plt.figure(figsize=(8,5))\n",
    "plt.plot(strike_prices, implied_vols, marker='o', linestyle='-')\n",
    "plt.xlabel(\"Strike Price (K)\")\n",
    "plt.ylabel(\"Implied Volatility (IV)\")\n",
    "plt.title(\"Implied Volatility vs. Strike Price\")\n",
    "plt.grid()\n",
    "plt.show()\n"
   ]
  }
 ],
 "metadata": {
  "kernelspec": {
   "display_name": "default",
   "language": "python",
   "name": "python3"
  },
  "language_info": {
   "name": "python",
   "version": "3.11.11"
  }
 },
 "nbformat": 4,
 "nbformat_minor": 2
}
